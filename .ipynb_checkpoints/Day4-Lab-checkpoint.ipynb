{
 "cells": [
  {
   "cell_type": "markdown",
   "id": "dfae4f03",
   "metadata": {},
   "source": [
    "# Implementing Security Measures for Blockchain and Bitcoin Wallet\n",
    "\n",
    "Objective:\n",
    "\n",
    "To understand and implement security measures for Blockchain technology and Bitcoin wallets, ensuring the safety and integrity of transactions and wallet data."
   ]
  },
  {
   "cell_type": "code",
   "execution_count": 1,
   "id": "0e302791",
   "metadata": {},
   "outputs": [
    {
     "name": "stdout",
     "output_type": "stream",
     "text": [
      "SHA-256 Hash: c092834352ae239d54a1e242bb167b57a73c72f4b9332a1379636b18928ac21c\n"
     ]
    }
   ],
   "source": [
    "import hashlib\n",
    "def sha256_hash(data):\n",
    "    result = hashlib.sha256(data.encode()).hexdigest()\n",
    "    print(f\"SHA-256 Hash: {result}\")\n",
    "\n",
    "sha256_hash(\"BlockchainSecurity\")\n"
   ]
  },
  {
   "cell_type": "code",
   "execution_count": 2,
   "id": "effd92a4",
   "metadata": {},
   "outputs": [
    {
     "name": "stdout",
     "output_type": "stream",
     "text": [
      "Private Key: d3064516790c8e0cc937498f1824ab5f5a6f595f30ff5c1d1bc64144750c7b07\n",
      "Public Key: 04130a4704b9e81df6d91f4d272d6eb9cb87e77a1b2d1c07c506ad3929244c62951006d119fca522b0f5b6c47daad64ba082f800effd7c64f9662bec7685aae1b6\n",
      "Bitcoin Address: 1BVdYzXC2KxoidU1PPUdYGZ7xjxtzp7rMX\n"
     ]
    }
   ],
   "source": [
    "from bitcoin import random_key, privtopub, pubtoaddr\n",
    "\n",
    "private_key = random_key()\n",
    "public_key = privtopub(private_key)\n",
    "address = pubtoaddr(public_key)\n",
    "\n",
    "print(f\"Private Key: {private_key}\")\n",
    "print(f\"Public Key: {public_key}\")\n",
    "print(f\"Bitcoin Address: {address}\")"
   ]
  },
  {
   "cell_type": "code",
   "execution_count": 3,
   "id": "a26b9af2",
   "metadata": {},
   "outputs": [
    {
     "name": "stdout",
     "output_type": "stream",
     "text": [
      "Block Hash: 000013f5f38ee7e5fa1e9a477ed98d367a6e8793fdec4a3fbc06b28c5d8204b4\n"
     ]
    }
   ],
   "source": [
    "import hashlib\n",
    "\n",
    "class Block:\n",
    "    def __init__(self, index, previous_hash, data, nonce=0):\n",
    "        self.index = index\n",
    "        self.previous_hash = previous_hash\n",
    "        self.data = data\n",
    "        self.nonce = nonce\n",
    "        \n",
    "    def hash_block(self):\n",
    "        return hashlib.sha256(f\"{self.index}{self.previous_hash}{self.data}{self.nonce}\".encode()).hexdigest()\n",
    "    \n",
    "def proof_of_work(block, difficulty):\n",
    "    block.nonce = 0\n",
    "    while not block.hash_block().startswith(\"0\" * difficulty):\n",
    "        block.nonce += 1\n",
    "        \n",
    "block = Block(1, \"0\", \"First Block\")\n",
    "proof_of_work(block, 4)\n",
    "print(f\"Block Hash: {block.hash_block()}\")\n"
   ]
  },
  {
   "cell_type": "code",
   "execution_count": 5,
   "id": "9c2a7560",
   "metadata": {},
   "outputs": [
    {
     "name": "stdout",
     "output_type": "stream",
     "text": [
      "Generated Seed Phrase: fun people dragon arrange heart setup hover moral project dumb fox gown question syrup destroy noble useful museum alpha topic era spoon announce dolphin\n",
      "Private Key: 5adc3fe728b0629c3d7c6f34dba4d0d2c141285be97f9a092392a05459822364\n",
      "Encrypted Private Key: b'gAAAAABm9Cux1M5-OAG7KpwwNQRm76L7-ajDRLr_C-eiXGkY9V2AZsXndlZAGnpAgrgKbOFj5HxsW9iG4z_g6XC82rzxJ1ctTRWc1S7nYtfaemjn6t3ClMJdcjUiBz2pdb0HkMg9bAPv'\n",
      "Decrypted Private Key: 5adc3fe728b0629c3d7c6f34dba4d0d2c141285be97f9a092392a05459822364\n",
      "Decryption successful, keys match.\n"
     ]
    }
   ],
   "source": [
    "from mnemonic import Mnemonic\n",
    "from cryptography.fernet import Fernet\n",
    "import os\n",
    "\n",
    "# Generate a mnemonic seed phrase\n",
    "mnemo = Mnemonic(\"english\")\n",
    "seed_phrase = mnemo.generate(strength=256)\n",
    "print(f\"Generated Seed Phrase: {seed_phrase}\")\n",
    "\n",
    "# Derive private key from the seed phrase\n",
    "seed = mnemo.to_seed(seed_phrase)\n",
    "private_key = os.urandom(32)  # Simulating private key\n",
    "print(f\"Private Key: {private_key.hex()}\")\n",
    "\n",
    "# Encrypting the private key with a passphrase\n",
    "encryption_key = Fernet.generate_key()\n",
    "cipher_suite = Fernet(encryption_key)\n",
    "encrypted_private_key = cipher_suite.encrypt(private_key)\n",
    "print(f\"Encrypted Private Key: {encrypted_private_key}\")\n",
    "\n",
    "# Decryption (Wallet Recovery Process)\n",
    "decrypted_private_key = cipher_suite.decrypt(encrypted_private_key)\n",
    "print(f\"Decrypted Private Key: {decrypted_private_key.hex()}\")\n",
    "\n",
    "# Test if decrypted private key matches the original\n",
    "assert decrypted_private_key == private_key, \"Decryption failed!\"\n",
    "print(\"Decryption successful, keys match.\")\n"
   ]
  },
  {
   "cell_type": "code",
   "execution_count": 8,
   "id": "f6f88273",
   "metadata": {},
   "outputs": [
    {
     "name": "stdout",
     "output_type": "stream",
     "text": [
      "\n",
      "=== Simulated Phishing Email ===\n",
      "\n",
      "\n",
      "    Subject: Urgent! Your Bitcoin Wallet Needs Verification\n",
      "\n",
      "    Dear Customer,\n",
      "\n",
      "    We detected unusual activity in your Ledger wallet. To protect your funds, we require immediate verification of your private key information.\n",
      "\n",
      "    Failure to verify your wallet in the next 24 hours will result in the suspension of your account and possible loss of funds.\n",
      "\n",
      "    Please click the link below and enter your private key information to restore access to your wallet:\n",
      "\n",
      "    [FAKE LINK TO PHISHING SITE]\n",
      "    \n",
      "    If you do not respond in time, your Bitcoin funds may be compromised. Act now to secure your assets!\n",
      "\n",
      "    Sincerely,\n",
      "    Ledger Security Team\n",
      "    \n",
      "\n",
      "=== Phishing Analysis ===\n",
      "1. **Urgency**: The email creates panic by claiming that your account or funds are at risk.\n",
      "2. **Impersonation**: The email pretends to be from a trusted entity, like Ledger.\n",
      "3. **Sensitive Information Request**: It asks for your private key, which no legitimate company would ever ask for.\n",
      "4. **Fake Link**: The email contains a link to a phishing website that looks like a legitimate site.\n",
      "5. **Grammar and Spelling**: Often, phishing emails contain subtle grammatical or spelling mistakes.\n"
     ]
    }
   ],
   "source": [
    "def simulate_phishing_email():\n",
    "    print(\"\\n=== Simulated Phishing Email ===\\n\")\n",
    "    \n",
    "    # Mock phishing email content\n",
    "    phishing_email = \"\"\"\n",
    "    Subject: Urgent! Your Bitcoin Wallet Needs Verification\n",
    "\n",
    "    Dear Customer,\n",
    "\n",
    "    We detected unusual activity in your Ledger wallet. To protect your funds, we require immediate verification of your private key information.\n",
    "\n",
    "    Failure to verify your wallet in the next 24 hours will result in the suspension of your account and possible loss of funds.\n",
    "\n",
    "    Please click the link below and enter your private key information to restore access to your wallet:\n",
    "\n",
    "    [FAKE LINK TO PHISHING SITE]\n",
    "    \n",
    "    If you do not respond in time, your Bitcoin funds may be compromised. Act now to secure your assets!\n",
    "\n",
    "    Sincerely,\n",
    "    Ledger Security Team\n",
    "    \"\"\"\n",
    "\n",
    "    # Print the phishing email to analyze its structure\n",
    "    print(phishing_email)\n",
    "    \n",
    "    # Key points of phishing attacks\n",
    "    print(\"\\n=== Phishing Analysis ===\")\n",
    "    print(\"1. **Urgency**: The email creates panic by claiming that your account or funds are at risk.\")\n",
    "    print(\"2. **Impersonation**: The email pretends to be from a trusted entity, like Ledger.\")\n",
    "    print(\"3. **Sensitive Information Request**: It asks for your private key, which no legitimate company would ever ask for.\")\n",
    "    print(\"4. **Fake Link**: The email contains a link to a phishing website that looks like a legitimate site.\")\n",
    "    print(\"5. **Grammar and Spelling**: Often, phishing emails contain subtle grammatical or spelling mistakes.\")\n",
    "    \n",
    "simulate_phishing_email()\n"
   ]
  },
  {
   "cell_type": "code",
   "execution_count": null,
   "id": "a6716787",
   "metadata": {},
   "outputs": [],
   "source": []
  },
  {
   "cell_type": "code",
   "execution_count": null,
   "id": "7a5907aa",
   "metadata": {},
   "outputs": [],
   "source": []
  }
 ],
 "metadata": {
  "kernelspec": {
   "display_name": "Python 3 (ipykernel)",
   "language": "python",
   "name": "python3"
  },
  "language_info": {
   "codemirror_mode": {
    "name": "ipython",
    "version": 3
   },
   "file_extension": ".py",
   "mimetype": "text/x-python",
   "name": "python",
   "nbconvert_exporter": "python",
   "pygments_lexer": "ipython3",
   "version": "3.9.13"
  }
 },
 "nbformat": 4,
 "nbformat_minor": 5
}
